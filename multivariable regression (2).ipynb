{
 "cells": [
  {
   "cell_type": "code",
   "execution_count": 1,
   "id": "bf209644",
   "metadata": {},
   "outputs": [],
   "source": [
    "from mpl_toolkits.mplot3d import Axes3D\n",
    "import pandas as pd\n",
    "import matplotlib.pyplot as plt\n",
    "import numpy as np\n",
    "from sklearn import linear_model\n",
    "np.random.seed(19680801)"
   ]
  },
  {
   "cell_type": "code",
   "execution_count": 20,
   "id": "620a52f7",
   "metadata": {},
   "outputs": [],
   "source": [
    "data=pd.read_csv(\"D:\\Data AQA\\mumbai_multi.csv\")"
   ]
  },
  {
   "cell_type": "code",
   "execution_count": 21,
   "id": "c79f8ec2",
   "metadata": {},
   "outputs": [
    {
     "data": {
      "text/html": [
       "<div>\n",
       "<style scoped>\n",
       "    .dataframe tbody tr th:only-of-type {\n",
       "        vertical-align: middle;\n",
       "    }\n",
       "\n",
       "    .dataframe tbody tr th {\n",
       "        vertical-align: top;\n",
       "    }\n",
       "\n",
       "    .dataframe thead th {\n",
       "        text-align: right;\n",
       "    }\n",
       "</style>\n",
       "<table border=\"1\" class=\"dataframe\">\n",
       "  <thead>\n",
       "    <tr style=\"text-align: right;\">\n",
       "      <th></th>\n",
       "      <th>St_no</th>\n",
       "      <th>PM2.5</th>\n",
       "      <th>PM10</th>\n",
       "      <th>NO</th>\n",
       "      <th>NO2</th>\n",
       "      <th>NH3</th>\n",
       "      <th>SO2</th>\n",
       "      <th>CO</th>\n",
       "      <th>Benzene</th>\n",
       "      <th>Ozone</th>\n",
       "      <th>CH4</th>\n",
       "      <th>CO2</th>\n",
       "      <th>BlackCarbon</th>\n",
       "    </tr>\n",
       "  </thead>\n",
       "  <tbody>\n",
       "    <tr>\n",
       "      <th>0</th>\n",
       "      <td>1</td>\n",
       "      <td>28.85</td>\n",
       "      <td>289.36</td>\n",
       "      <td>70.61</td>\n",
       "      <td>58.47</td>\n",
       "      <td>174.30</td>\n",
       "      <td>3.01</td>\n",
       "      <td>0.20</td>\n",
       "      <td>5.00</td>\n",
       "      <td>13.72</td>\n",
       "      <td>NaN</td>\n",
       "      <td>420.08</td>\n",
       "      <td>NaN</td>\n",
       "    </tr>\n",
       "    <tr>\n",
       "      <th>1</th>\n",
       "      <td>1</td>\n",
       "      <td>90.91</td>\n",
       "      <td>266.66</td>\n",
       "      <td>59.70</td>\n",
       "      <td>51.01</td>\n",
       "      <td>153.50</td>\n",
       "      <td>3.24</td>\n",
       "      <td>0.35</td>\n",
       "      <td>5.00</td>\n",
       "      <td>8.06</td>\n",
       "      <td>NaN</td>\n",
       "      <td>417.61</td>\n",
       "      <td>NaN</td>\n",
       "    </tr>\n",
       "    <tr>\n",
       "      <th>2</th>\n",
       "      <td>1</td>\n",
       "      <td>26.19</td>\n",
       "      <td>237.63</td>\n",
       "      <td>76.37</td>\n",
       "      <td>92.88</td>\n",
       "      <td>157.16</td>\n",
       "      <td>8.28</td>\n",
       "      <td>1.11</td>\n",
       "      <td>5.00</td>\n",
       "      <td>22.12</td>\n",
       "      <td>NaN</td>\n",
       "      <td>426.32</td>\n",
       "      <td>NaN</td>\n",
       "    </tr>\n",
       "    <tr>\n",
       "      <th>3</th>\n",
       "      <td>1</td>\n",
       "      <td>27.24</td>\n",
       "      <td>243.11</td>\n",
       "      <td>86.95</td>\n",
       "      <td>45.14</td>\n",
       "      <td>185.24</td>\n",
       "      <td>3.26</td>\n",
       "      <td>0.76</td>\n",
       "      <td>5.00</td>\n",
       "      <td>8.11</td>\n",
       "      <td>NaN</td>\n",
       "      <td>433.62</td>\n",
       "      <td>NaN</td>\n",
       "    </tr>\n",
       "    <tr>\n",
       "      <th>4</th>\n",
       "      <td>1</td>\n",
       "      <td>27.93</td>\n",
       "      <td>180.92</td>\n",
       "      <td>62.56</td>\n",
       "      <td>68.73</td>\n",
       "      <td>131.72</td>\n",
       "      <td>7.24</td>\n",
       "      <td>1.80</td>\n",
       "      <td>5.00</td>\n",
       "      <td>19.06</td>\n",
       "      <td>NaN</td>\n",
       "      <td>323.93</td>\n",
       "      <td>NaN</td>\n",
       "    </tr>\n",
       "    <tr>\n",
       "      <th>...</th>\n",
       "      <td>...</td>\n",
       "      <td>...</td>\n",
       "      <td>...</td>\n",
       "      <td>...</td>\n",
       "      <td>...</td>\n",
       "      <td>...</td>\n",
       "      <td>...</td>\n",
       "      <td>...</td>\n",
       "      <td>...</td>\n",
       "      <td>...</td>\n",
       "      <td>...</td>\n",
       "      <td>...</td>\n",
       "      <td>...</td>\n",
       "    </tr>\n",
       "    <tr>\n",
       "      <th>205</th>\n",
       "      <td>1</td>\n",
       "      <td>21.60</td>\n",
       "      <td>93.22</td>\n",
       "      <td>5.98</td>\n",
       "      <td>2.82</td>\n",
       "      <td>5.28</td>\n",
       "      <td>0.54</td>\n",
       "      <td>0.28</td>\n",
       "      <td>4.97</td>\n",
       "      <td>11.69</td>\n",
       "      <td>NaN</td>\n",
       "      <td>346.57</td>\n",
       "      <td>NaN</td>\n",
       "    </tr>\n",
       "    <tr>\n",
       "      <th>206</th>\n",
       "      <td>1</td>\n",
       "      <td>17.85</td>\n",
       "      <td>70.55</td>\n",
       "      <td>6.13</td>\n",
       "      <td>5.53</td>\n",
       "      <td>5.53</td>\n",
       "      <td>0.40</td>\n",
       "      <td>0.66</td>\n",
       "      <td>5.00</td>\n",
       "      <td>12.32</td>\n",
       "      <td>NaN</td>\n",
       "      <td>316.19</td>\n",
       "      <td>NaN</td>\n",
       "    </tr>\n",
       "    <tr>\n",
       "      <th>207</th>\n",
       "      <td>1</td>\n",
       "      <td>18.84</td>\n",
       "      <td>68.19</td>\n",
       "      <td>6.84</td>\n",
       "      <td>3.26</td>\n",
       "      <td>5.77</td>\n",
       "      <td>0.33</td>\n",
       "      <td>0.57</td>\n",
       "      <td>5.02</td>\n",
       "      <td>14.14</td>\n",
       "      <td>NaN</td>\n",
       "      <td>315.91</td>\n",
       "      <td>NaN</td>\n",
       "    </tr>\n",
       "    <tr>\n",
       "      <th>208</th>\n",
       "      <td>1</td>\n",
       "      <td>24.25</td>\n",
       "      <td>63.05</td>\n",
       "      <td>7.34</td>\n",
       "      <td>5.75</td>\n",
       "      <td>6.40</td>\n",
       "      <td>15.15</td>\n",
       "      <td>0.52</td>\n",
       "      <td>5.02</td>\n",
       "      <td>34.50</td>\n",
       "      <td>NaN</td>\n",
       "      <td>371.83</td>\n",
       "      <td>NaN</td>\n",
       "    </tr>\n",
       "    <tr>\n",
       "      <th>209</th>\n",
       "      <td>1</td>\n",
       "      <td>22.29</td>\n",
       "      <td>40.38</td>\n",
       "      <td>5.74</td>\n",
       "      <td>5.93</td>\n",
       "      <td>5.36</td>\n",
       "      <td>0.53</td>\n",
       "      <td>0.06</td>\n",
       "      <td>4.98</td>\n",
       "      <td>32.97</td>\n",
       "      <td>NaN</td>\n",
       "      <td>451.96</td>\n",
       "      <td>NaN</td>\n",
       "    </tr>\n",
       "  </tbody>\n",
       "</table>\n",
       "<p>210 rows × 13 columns</p>\n",
       "</div>"
      ],
      "text/plain": [
       "     St_no  PM2.5    PM10     NO    NO2     NH3    SO2    CO  Benzene  Ozone  \\\n",
       "0        1  28.85  289.36  70.61  58.47  174.30   3.01  0.20     5.00  13.72   \n",
       "1        1  90.91  266.66  59.70  51.01  153.50   3.24  0.35     5.00   8.06   \n",
       "2        1  26.19  237.63  76.37  92.88  157.16   8.28  1.11     5.00  22.12   \n",
       "3        1  27.24  243.11  86.95  45.14  185.24   3.26  0.76     5.00   8.11   \n",
       "4        1  27.93  180.92  62.56  68.73  131.72   7.24  1.80     5.00  19.06   \n",
       "..     ...    ...     ...    ...    ...     ...    ...   ...      ...    ...   \n",
       "205      1  21.60   93.22   5.98   2.82    5.28   0.54  0.28     4.97  11.69   \n",
       "206      1  17.85   70.55   6.13   5.53    5.53   0.40  0.66     5.00  12.32   \n",
       "207      1  18.84   68.19   6.84   3.26    5.77   0.33  0.57     5.02  14.14   \n",
       "208      1  24.25   63.05   7.34   5.75    6.40  15.15  0.52     5.02  34.50   \n",
       "209      1  22.29   40.38   5.74   5.93    5.36   0.53  0.06     4.98  32.97   \n",
       "\n",
       "     CH4     CO2  BlackCarbon  \n",
       "0    NaN  420.08          NaN  \n",
       "1    NaN  417.61          NaN  \n",
       "2    NaN  426.32          NaN  \n",
       "3    NaN  433.62          NaN  \n",
       "4    NaN  323.93          NaN  \n",
       "..   ...     ...          ...  \n",
       "205  NaN  346.57          NaN  \n",
       "206  NaN  316.19          NaN  \n",
       "207  NaN  315.91          NaN  \n",
       "208  NaN  371.83          NaN  \n",
       "209  NaN  451.96          NaN  \n",
       "\n",
       "[210 rows x 13 columns]"
      ]
     },
     "execution_count": 21,
     "metadata": {},
     "output_type": "execute_result"
    }
   ],
   "source": [
    "data.head(210)"
   ]
  },
  {
   "cell_type": "code",
   "execution_count": 22,
   "id": "a480925d",
   "metadata": {},
   "outputs": [],
   "source": [
    "data['PM10']=data['PM10'].fillna(data['PM10'].median())\n",
    "data['NO']=data['NO'].fillna(data['NO'].median())\n",
    "data['NO2']=data['NO2'].fillna(data['NO2'].median())\n",
    "data['NH3']=data['NH3'].fillna(data['NH3'].median())\n",
    "data['SO2']=data['SO2'].fillna(data['SO2'].median())\n",
    "data['CO']=data['CO'].fillna(data['CO'].median())\n",
    "data['Benzene']=data['Benzene'].fillna(data['Benzene'].median())\n",
    "data['Ozone']=data['Ozone'].fillna(data['Ozone'].median())"
   ]
  },
  {
   "cell_type": "code",
   "execution_count": 24,
   "id": "e4f5f76e",
   "metadata": {},
   "outputs": [
    {
     "data": {
      "text/html": [
       "<div>\n",
       "<style scoped>\n",
       "    .dataframe tbody tr th:only-of-type {\n",
       "        vertical-align: middle;\n",
       "    }\n",
       "\n",
       "    .dataframe tbody tr th {\n",
       "        vertical-align: top;\n",
       "    }\n",
       "\n",
       "    .dataframe thead th {\n",
       "        text-align: right;\n",
       "    }\n",
       "</style>\n",
       "<table border=\"1\" class=\"dataframe\">\n",
       "  <thead>\n",
       "    <tr style=\"text-align: right;\">\n",
       "      <th></th>\n",
       "      <th>St_no</th>\n",
       "      <th>PM2.5</th>\n",
       "      <th>PM10</th>\n",
       "      <th>NO</th>\n",
       "      <th>NO2</th>\n",
       "      <th>NH3</th>\n",
       "      <th>SO2</th>\n",
       "      <th>CO</th>\n",
       "      <th>Benzene</th>\n",
       "      <th>Ozone</th>\n",
       "    </tr>\n",
       "  </thead>\n",
       "  <tbody>\n",
       "    <tr>\n",
       "      <th>0</th>\n",
       "      <td>1</td>\n",
       "      <td>28.85</td>\n",
       "      <td>289.36</td>\n",
       "      <td>70.61</td>\n",
       "      <td>58.47</td>\n",
       "      <td>174.30</td>\n",
       "      <td>3.01</td>\n",
       "      <td>0.20</td>\n",
       "      <td>5.00</td>\n",
       "      <td>13.72</td>\n",
       "    </tr>\n",
       "    <tr>\n",
       "      <th>1</th>\n",
       "      <td>1</td>\n",
       "      <td>90.91</td>\n",
       "      <td>266.66</td>\n",
       "      <td>59.70</td>\n",
       "      <td>51.01</td>\n",
       "      <td>153.50</td>\n",
       "      <td>3.24</td>\n",
       "      <td>0.35</td>\n",
       "      <td>5.00</td>\n",
       "      <td>8.06</td>\n",
       "    </tr>\n",
       "    <tr>\n",
       "      <th>2</th>\n",
       "      <td>1</td>\n",
       "      <td>26.19</td>\n",
       "      <td>237.63</td>\n",
       "      <td>76.37</td>\n",
       "      <td>92.88</td>\n",
       "      <td>157.16</td>\n",
       "      <td>8.28</td>\n",
       "      <td>1.11</td>\n",
       "      <td>5.00</td>\n",
       "      <td>22.12</td>\n",
       "    </tr>\n",
       "    <tr>\n",
       "      <th>3</th>\n",
       "      <td>1</td>\n",
       "      <td>27.24</td>\n",
       "      <td>243.11</td>\n",
       "      <td>86.95</td>\n",
       "      <td>45.14</td>\n",
       "      <td>185.24</td>\n",
       "      <td>3.26</td>\n",
       "      <td>0.76</td>\n",
       "      <td>5.00</td>\n",
       "      <td>8.11</td>\n",
       "    </tr>\n",
       "    <tr>\n",
       "      <th>4</th>\n",
       "      <td>1</td>\n",
       "      <td>27.93</td>\n",
       "      <td>180.92</td>\n",
       "      <td>62.56</td>\n",
       "      <td>68.73</td>\n",
       "      <td>131.72</td>\n",
       "      <td>7.24</td>\n",
       "      <td>1.80</td>\n",
       "      <td>5.00</td>\n",
       "      <td>19.06</td>\n",
       "    </tr>\n",
       "    <tr>\n",
       "      <th>...</th>\n",
       "      <td>...</td>\n",
       "      <td>...</td>\n",
       "      <td>...</td>\n",
       "      <td>...</td>\n",
       "      <td>...</td>\n",
       "      <td>...</td>\n",
       "      <td>...</td>\n",
       "      <td>...</td>\n",
       "      <td>...</td>\n",
       "      <td>...</td>\n",
       "    </tr>\n",
       "    <tr>\n",
       "      <th>12728</th>\n",
       "      <td>17</td>\n",
       "      <td>76.68</td>\n",
       "      <td>244.83</td>\n",
       "      <td>9.71</td>\n",
       "      <td>34.67</td>\n",
       "      <td>8.92</td>\n",
       "      <td>20.31</td>\n",
       "      <td>1.89</td>\n",
       "      <td>11.48</td>\n",
       "      <td>0.79</td>\n",
       "    </tr>\n",
       "    <tr>\n",
       "      <th>12729</th>\n",
       "      <td>17</td>\n",
       "      <td>86.49</td>\n",
       "      <td>234.80</td>\n",
       "      <td>9.14</td>\n",
       "      <td>30.31</td>\n",
       "      <td>9.43</td>\n",
       "      <td>20.84</td>\n",
       "      <td>1.84</td>\n",
       "      <td>11.48</td>\n",
       "      <td>0.79</td>\n",
       "    </tr>\n",
       "    <tr>\n",
       "      <th>12730</th>\n",
       "      <td>17</td>\n",
       "      <td>45.57</td>\n",
       "      <td>127.84</td>\n",
       "      <td>5.26</td>\n",
       "      <td>23.24</td>\n",
       "      <td>7.95</td>\n",
       "      <td>20.63</td>\n",
       "      <td>1.56</td>\n",
       "      <td>11.48</td>\n",
       "      <td>0.79</td>\n",
       "    </tr>\n",
       "    <tr>\n",
       "      <th>12731</th>\n",
       "      <td>17</td>\n",
       "      <td>22.87</td>\n",
       "      <td>183.29</td>\n",
       "      <td>9.45</td>\n",
       "      <td>31.19</td>\n",
       "      <td>9.06</td>\n",
       "      <td>20.34</td>\n",
       "      <td>1.90</td>\n",
       "      <td>11.48</td>\n",
       "      <td>0.79</td>\n",
       "    </tr>\n",
       "    <tr>\n",
       "      <th>12732</th>\n",
       "      <td>17</td>\n",
       "      <td>22.87</td>\n",
       "      <td>172.16</td>\n",
       "      <td>6.24</td>\n",
       "      <td>24.06</td>\n",
       "      <td>9.27</td>\n",
       "      <td>20.39</td>\n",
       "      <td>1.69</td>\n",
       "      <td>11.48</td>\n",
       "      <td>0.79</td>\n",
       "    </tr>\n",
       "  </tbody>\n",
       "</table>\n",
       "<p>12733 rows × 10 columns</p>\n",
       "</div>"
      ],
      "text/plain": [
       "       St_no  PM2.5    PM10     NO    NO2     NH3    SO2    CO  Benzene  Ozone\n",
       "0          1  28.85  289.36  70.61  58.47  174.30   3.01  0.20     5.00  13.72\n",
       "1          1  90.91  266.66  59.70  51.01  153.50   3.24  0.35     5.00   8.06\n",
       "2          1  26.19  237.63  76.37  92.88  157.16   8.28  1.11     5.00  22.12\n",
       "3          1  27.24  243.11  86.95  45.14  185.24   3.26  0.76     5.00   8.11\n",
       "4          1  27.93  180.92  62.56  68.73  131.72   7.24  1.80     5.00  19.06\n",
       "...      ...    ...     ...    ...    ...     ...    ...   ...      ...    ...\n",
       "12728     17  76.68  244.83   9.71  34.67    8.92  20.31  1.89    11.48   0.79\n",
       "12729     17  86.49  234.80   9.14  30.31    9.43  20.84  1.84    11.48   0.79\n",
       "12730     17  45.57  127.84   5.26  23.24    7.95  20.63  1.56    11.48   0.79\n",
       "12731     17  22.87  183.29   9.45  31.19    9.06  20.34  1.90    11.48   0.79\n",
       "12732     17  22.87  172.16   6.24  24.06    9.27  20.39  1.69    11.48   0.79\n",
       "\n",
       "[12733 rows x 10 columns]"
      ]
     },
     "execution_count": 24,
     "metadata": {},
     "output_type": "execute_result"
    }
   ],
   "source": [
    "data1=pd.DataFrame(data.iloc[:,0:10])\n",
    "data1"
   ]
  },
  {
   "cell_type": "code",
   "execution_count": 25,
   "id": "e17f27d3",
   "metadata": {},
   "outputs": [
    {
     "data": {
      "image/png": "[encoded data removed]",
      "text/plain": [
       "<Figure size 432x288 with 1 Axes>"
      ]
     },
     "metadata": {
      "needs_background": "light"
     },
     "output_type": "display_data"
    }
   ],
   "source": [
    "fig=plt.figure()\n",
    "ax=fig.add_subplot(111,projection='3d')\n",
    "n=100\n",
    "ax.scatter(data1[\"PM2.5\"],data1[\"PM10\"],data1[\"NO\"],color=\"red\")\n",
    "ax.set_xlabel(\"PM2.5\")\n",
    "ax.set_ylabel(\"PM10\")\n",
    "ax.set_zlabel(\"NO\")\n",
    "plt.show()"
   ]
  },
  {
   "cell_type": "code",
   "execution_count": 26,
   "id": "58c9cb3d",
   "metadata": {},
   "outputs": [
    {
     "data": {
      "image/png": "[encoded data removed]",
      "text/plain": [
       "<Figure size 432x288 with 1 Axes>"
      ]
     },
     "metadata": {
      "needs_background": "light"
     },
     "output_type": "display_data"
    }
   ],
   "source": [
    "fig=plt.figure()\n",
    "ax=fig.add_subplot(111,projection='3d')\n",
    "n=100\n",
    "ax.scatter(data1[\"NO2\"],data1[\"NH3\"],data1[\"SO2\"],color=\"yellow\")\n",
    "ax.set_xlabel(\"NO2\")\n",
    "ax.set_ylabel(\"NH3\")\n",
    "ax.set_zlabel(\"SO2\")\n",
    "plt.show()"
   ]
  },
  {
   "cell_type": "code",
   "execution_count": 27,
   "id": "4d639b9d",
   "metadata": {},
   "outputs": [
    {
     "data": {
      "image/png": "[encoded data removed]",
      "text/plain": [
       "<Figure size 432x288 with 1 Axes>"
      ]
     },
     "metadata": {
      "needs_background": "light"
     },
     "output_type": "display_data"
    }
   ],
   "source": [
    "fig=plt.figure()\n",
    "ax=fig.add_subplot(111,projection='3d')\n",
    "n=100\n",
    "ax.scatter(data1[\"CO\"],data1[\"Benzene\"],data1[\"Ozone\"],color=\"Blue\")\n",
    "ax.set_xlabel(\"CO\")\n",
    "ax.set_ylabel(\"Benzene\")\n",
    "ax.set_zlabel(\"Ozone\")\n",
    "plt.show()"
   ]
  },
  {
   "cell_type": "code",
   "execution_count": 28,
   "id": "9b401acb",
   "metadata": {},
   "outputs": [],
   "source": [
    "#enerating training and testing data from our data:\n",
    "# We are using 80% data for training.\n",
    "train = data1[:(int((len(data1)*0.8)))]\n",
    "test = data1[(int((len(data1)*0.8))):]"
   ]
  },
  {
   "cell_type": "code",
   "execution_count": 30,
   "id": "d706fa40",
   "metadata": {},
   "outputs": [
    {
     "data": {
      "text/plain": [
       "LinearRegression()"
      ]
     },
     "execution_count": 30,
     "metadata": {},
     "output_type": "execute_result"
    }
   ],
   "source": [
    "# Modeling:\n",
    "# Using sklearn package to model data :\n",
    "regr = linear_model.LinearRegression()\n",
    "train_x = np.array(train[[\"PM2.5\"]])\n",
    "train_y = np.array(train[[\"PM10\"]])\n",
    "regr.fit(train_x,train_y)"
   ]
  },
  {
   "cell_type": "code",
   "execution_count": 31,
   "id": "91a687d6",
   "metadata": {},
   "outputs": [
    {
     "data": {
      "text/plain": [
       "Text(0.11410640661270852, 0.015287359751546258, 'NO')"
      ]
     },
     "execution_count": 31,
     "metadata": {},
     "output_type": "execute_result"
    },
    {
     "data": {
      "image/png": "[encoded data removed]",
      "text/plain": [
       "<Figure size 432x288 with 1 Axes>"
      ]
     },
     "metadata": {
      "needs_background": "light"
     },
     "output_type": "display_data"
    }
   ],
   "source": [
    "ax.scatter(data1[\"PM2.5\"],data[\"PM10\"],data[\"NO\"],color=\"red\")\n",
    "plt.plot(train_x, regr.coef_*train_x + regr.intercept_, '-r')\n",
    "ax.set_xlabel(\"PM2.5\")\n",
    "ax.set_ylabel(\"PM10\")\n",
    "ax.set_zlabel(\"NO\")"
   ]
  },
  {
   "cell_type": "markdown",
   "id": "f9684102",
   "metadata": {},
   "source": [
    "To find the coefficient and intercept"
   ]
  },
  {
   "cell_type": "code",
   "execution_count": 32,
   "id": "1a39637b",
   "metadata": {},
   "outputs": [
    {
     "name": "stdout",
     "output_type": "stream",
     "text": [
      "coefficients :  [[1.75023683]]\n",
      "Intercept :  [19.96377934]\n"
     ]
    }
   ],
   "source": [
    "print (\"coefficients : \",regr.coef_) #Slope\n",
    "print (\"Intercept : \",regr.intercept_)"
   ]
  },
  {
   "cell_type": "markdown",
   "id": "4b00c268",
   "metadata": {},
   "source": [
    "Estimating the value of engine size"
   ]
  },
  {
   "cell_type": "code",
   "execution_count": 33,
   "id": "c6a8b2bc",
   "metadata": {},
   "outputs": [
    {
     "name": "stdout",
     "output_type": "stream",
     "text": [
      "Mean absolute error: 25.54\n",
      "Mean sum of squares (MSE): 1226.90\n",
      "R2-score: 0.61\n"
     ]
    }
   ],
   "source": [
    "# Predicting values:\n",
    "# Function for predicting future values\n",
    "def get_regression_predictions(input_features,intercept,slope):\n",
    "    predicted_values = input_features*slope + intercept\n",
    "    return predicted_values\n",
    "\n",
    "# Checking various accuracy:\n",
    "from sklearn.metrics import r2_score \n",
    "test_x = np.array(test[['PM2.5']]) \n",
    "test_y = np.array(test[['PM10']]) \n",
    "test_y_ = regr.predict(test_x)\n",
    "print(\"Mean absolute error: %.2f\" % np.mean(np.absolute(test_y_ - test_y)))\n",
    "print(\"Mean sum of squares (MSE): %.2f\" % np.mean((test_y_ - test_y)** 2))\n",
    "print(\"R2-score: %.2f\" % r2_score(test_y_ , test_y) )"
   ]
  },
  {
   "cell_type": "code",
   "execution_count": 34,
   "id": "822aeee4",
   "metadata": {},
   "outputs": [
    {
     "data": {
      "text/plain": [
       "LinearRegression()"
      ]
     },
     "execution_count": 34,
     "metadata": {},
     "output_type": "execute_result"
    }
   ],
   "source": [
    "# Modeling:\n",
    "# Using sklearn package to model data :\n",
    "regr = linear_model.LinearRegression()\n",
    "train_x = np.array(train[[\"NO2\"]])\n",
    "train_y = np.array(train[[\"NH3\"]])\n",
    "regr.fit(train_x,train_y)"
   ]
  },
  {
   "cell_type": "code",
   "execution_count": 39,
   "id": "d83ee11b",
   "metadata": {},
   "outputs": [
    {
     "data": {
      "text/plain": [
       "Text(0.11410640661270852, 0.015287359751546258, 'SO2')"
      ]
     },
     "execution_count": 39,
     "metadata": {},
     "output_type": "execute_result"
    },
    {
     "data": {
      "image/png": "[encoded data removed]",
      "text/plain": [
       "<Figure size 432x288 with 1 Axes>"
      ]
     },
     "metadata": {
      "needs_background": "light"
     },
     "output_type": "display_data"
    }
   ],
   "source": [
    "ax.scatter(data1[\"NO2\"],data[\"NH3\"],data[\"SO2\"],color=\"red\")\n",
    "plt.plot(train_x, regr.coef_*train_x + regr.intercept_, '-r')\n",
    "ax.set_xlabel(\"NO2\")\n",
    "ax.set_ylabel(\"NH3\")\n",
    "ax.set_zlabel(\"SO2\")"
   ]
  },
  {
   "cell_type": "markdown",
   "id": "dd7a9037",
   "metadata": {},
   "source": [
    "To find the coefficient and intercept"
   ]
  },
  {
   "cell_type": "code",
   "execution_count": 40,
   "id": "39156c7a",
   "metadata": {},
   "outputs": [
    {
     "name": "stdout",
     "output_type": "stream",
     "text": [
      "coefficients :  [[0.28732173]]\n",
      "Intercept :  [10.87145541]\n"
     ]
    }
   ],
   "source": [
    "print (\"coefficients : \",regr.coef_) #Slope\n",
    "print (\"Intercept : \",regr.intercept_)"
   ]
  },
  {
   "cell_type": "markdown",
   "id": "e9eb9ed7",
   "metadata": {},
   "source": [
    "Estimating the value of engine size"
   ]
  },
  {
   "cell_type": "code",
   "execution_count": 41,
   "id": "9ce28b70",
   "metadata": {},
   "outputs": [
    {
     "name": "stdout",
     "output_type": "stream",
     "text": [
      "Mean absolute error: 16.45\n",
      "Mean sum of squares (MSE): 997.44\n",
      "R2-score: -63.27\n"
     ]
    }
   ],
   "source": [
    "# Predicting values:\n",
    "# Function for predicting future values\n",
    "def get_regression_predictions(input_features,intercept,slope):\n",
    "    predicted_values = input_features*slope + intercept\n",
    "    return predicted_values\n",
    "\n",
    "# Checking various accuracy:\n",
    "from sklearn.metrics import r2_score \n",
    "test_x = np.array(test[['NO2']]) \n",
    "test_y = np.array(test[['NH3']]) \n",
    "test_y_ = regr.predict(test_x)\n",
    "print(\"Mean absolute error: %.2f\" % np.mean(np.absolute(test_y_ - test_y)))\n",
    "print(\"Mean sum of squares (MSE): %.2f\" % np.mean((test_y_ - test_y)** 2))\n",
    "print(\"R2-score: %.2f\" % r2_score(test_y_ , test_y) )"
   ]
  },
  {
   "cell_type": "code",
   "execution_count": 43,
   "id": "415266f5",
   "metadata": {},
   "outputs": [
    {
     "data": {
      "text/plain": [
       "LinearRegression()"
      ]
     },
     "execution_count": 43,
     "metadata": {},
     "output_type": "execute_result"
    }
   ],
   "source": [
    "# Modeling:\n",
    "# Using sklearn package to model data :\n",
    "regr = linear_model.LinearRegression()\n",
    "train_x = np.array(train[[\"CO\"]])\n",
    "train_y = np.array(train[[\"Benzene\"]])\n",
    "regr.fit(train_x,train_y)"
   ]
  },
  {
   "cell_type": "code",
   "execution_count": 44,
   "id": "17d1f0dc",
   "metadata": {},
   "outputs": [
    {
     "data": {
      "text/plain": [
       "Text(0.11410640661270852, 0.015287359751546258, 'Ozone')"
      ]
     },
     "execution_count": 44,
     "metadata": {},
     "output_type": "execute_result"
    },
    {
     "data": {
      "image/png": "[encoded data removed]",
      "text/plain": [
       "<Figure size 432x288 with 1 Axes>"
      ]
     },
     "metadata": {
      "needs_background": "light"
     },
     "output_type": "display_data"
    }
   ],
   "source": [
    "ax.scatter(data1[\"CO\"],data[\"Benzene\"],data[\"Ozone\"],color=\"red\")\n",
    "plt.plot(train_x, regr.coef_*train_x + regr.intercept_, '-r')\n",
    "ax.set_xlabel(\"CO\")\n",
    "ax.set_ylabel(\"Benzene\")\n",
    "ax.set_zlabel(\"Ozone\")"
   ]
  },
  {
   "cell_type": "code",
   "execution_count": 45,
   "id": "46b7e578",
   "metadata": {},
   "outputs": [
    {
     "name": "stdout",
     "output_type": "stream",
     "text": [
      "coefficients :  [[7.61357795]]\n",
      "Intercept :  [12.8632943]\n"
     ]
    }
   ],
   "source": [
    "print (\"coefficients : \",regr.coef_) #Slope\n",
    "print (\"Intercept : \",regr.intercept_)"
   ]
  },
  {
   "cell_type": "code",
   "execution_count": 46,
   "id": "bbbbd512",
   "metadata": {},
   "outputs": [
    {
     "name": "stdout",
     "output_type": "stream",
     "text": [
      "Mean absolute error: 57.31\n",
      "Mean sum of squares (MSE): 19307.28\n",
      "R2-score: -0.17\n"
     ]
    }
   ],
   "source": [
    "# Predicting values:\n",
    "# Function for predicting future values\n",
    "def get_regression_predictions(input_features,intercept,slope):\n",
    "    predicted_values = input_features*slope + intercept\n",
    "    return predicted_values\n",
    "\n",
    "# Checking various accuracy:\n",
    "from sklearn.metrics import r2_score \n",
    "test_x = np.array(test[['CO']]) \n",
    "test_y = np.array(test[['Benzene']]) \n",
    "test_y_ = regr.predict(test_x)\n",
    "print(\"Mean absolute error: %.2f\" % np.mean(np.absolute(test_y_ - test_y)))\n",
    "print(\"Mean sum of squares (MSE): %.2f\" % np.mean((test_y_ - test_y)** 2))\n",
    "print(\"R2-score: %.2f\" % r2_score(test_y_ , test_y) )"
   ]
  },
  {
   "cell_type": "code",
   "execution_count": null,
   "id": "545abb71",
   "metadata": {},
   "outputs": [],
   "source": []
  },
  {
   "cell_type": "code",
   "execution_count": null,
   "id": "e4c2cb7c",
   "metadata": {},
   "outputs": [],
   "source": []
  }
 ],
 "metadata": {
  "kernelspec": {
   "display_name": "Python 3 (ipykernel)",
   "language": "python",
   "name": "python3"
  },
  "language_info": {
   "codemirror_mode": {
    "name": "ipython",
    "version": 3
   },
   "file_extension": ".py",
   "mimetype": "text/x-python",
   "name": "python",
   "nbconvert_exporter": "python",
   "pygments_lexer": "ipython3",
   "version": "3.10.4"
  }
 },
 "nbformat": 4,
 "nbformat_minor": 5
}
